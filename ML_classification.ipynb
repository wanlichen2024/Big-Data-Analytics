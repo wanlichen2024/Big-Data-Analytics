{
  "nbformat": 4,
  "nbformat_minor": 0,
  "metadata": {
    "colab": {
      "provenance": [],
      "authorship_tag": "ABX9TyPPJzBnH6PZaO98Cr908Z7M",
      "include_colab_link": true
    },
    "kernelspec": {
      "name": "python3",
      "display_name": "Python 3"
    },
    "language_info": {
      "name": "python"
    }
  },
  "cells": [
    {
      "cell_type": "markdown",
      "metadata": {
        "id": "view-in-github",
        "colab_type": "text"
      },
      "source": [
        "<a href=\"https://colab.research.google.com/github/wanlichen2024/Big-Data-Analytics/blob/main/ML_classification.ipynb\" target=\"_parent\"><img src=\"https://colab.research.google.com/assets/colab-badge.svg\" alt=\"Open In Colab\"/></a>"
      ]
    },
    {
      "cell_type": "code",
      "execution_count": null,
      "metadata": {
        "colab": {
          "base_uri": "https://localhost:8080/"
        },
        "id": "rP6Co97psPf8",
        "outputId": "dbc088ea-913f-4199-d205-df4a05d242dc"
      },
      "outputs": [
        {
          "output_type": "stream",
          "name": "stdout",
          "text": [
            "Mounted at /content/drive\n"
          ]
        }
      ],
      "source": [
        "from google.colab import drive\n",
        "drive.mount('/content/drive')"
      ]
    },
    {
      "cell_type": "code",
      "source": [
        "from pyspark.sql import SparkSession\n",
        "from pyspark.ml.feature import VectorAssembler"
      ],
      "metadata": {
        "id": "BEJdZZWVtgC9"
      },
      "execution_count": null,
      "outputs": []
    },
    {
      "cell_type": "code",
      "source": [
        "# initiate SparkSession\n",
        "spark = SparkSession.builder.appName(\"Time Series Prediction\").getOrCreate()\n",
        "\n",
        "# loading data\n",
        "data_path = \"/content/drive/MyDrive/cleaned_data.csv\"\n",
        "df = spark.read.csv(data_path, header=True, inferSchema=True)\n",
        "\n",
        "# confirm columns name\n",
        "print(df.columns)"
      ],
      "metadata": {
        "colab": {
          "base_uri": "https://localhost:8080/"
        },
        "id": "A_TqXQSLtohc",
        "outputId": "e08197c7-dfdb-45b7-f497-352d98f9136b"
      },
      "execution_count": null,
      "outputs": [
        {
          "output_type": "stream",
          "name": "stdout",
          "text": [
            "['TIMESTAMP', 'period_hour', 'nd', 'tsd', 'england_wales_demand', 'embedded_wind_generation', 'embedded_wind_capacity', 'embedded_solar_generation', 'embedded_solar_capacity', 'non_bm_stor', 'pump_storage_pumping', 'ifa_flow', 'ifa2_flow', 'britned_flow', 'moyle_flow', 'east_west_flow', 'nemo_flow', 'is_holiday']\n"
          ]
        }
      ]
    },
    {
      "cell_type": "code",
      "source": [
        "# feature selection\n",
        "df = df.select(\"timestamp\", \"nd\", \"tsd\", \"embedded_wind_capacity\",\"embedded_solar_capacity\")\n",
        "\n",
        "# define features column\n",
        "feature_columns = [\"tsd\", \"embedded_wind_capacity\",\"embedded_solar_capacity\"]"
      ],
      "metadata": {
        "id": "9mf4Am-Zt1bk"
      },
      "execution_count": null,
      "outputs": []
    },
    {
      "cell_type": "code",
      "source": [
        "from pyspark.sql.functions import when, col\n",
        "\n",
        "# create category lable\n",
        "df = df.withColumn(\"nd_category\",\n",
        "                   when(col(\"nd\") < 20000, 0). # low demand\n",
        "                   when((col(\"nd\") >= 20000) & (col(\"ND\") < 40000), 1). # medium demand\n",
        "                   otherwise(2)) # high demand"
      ],
      "metadata": {
        "id": "NBbl-swPuHKt"
      },
      "execution_count": null,
      "outputs": []
    },
    {
      "cell_type": "code",
      "source": [
        "from pyspark.ml.feature import VectorAssembler\n",
        "\n",
        "# create feature vector\n",
        "assembler = VectorAssembler(inputCols=feature_columns, outputCol=\"features\")\n",
        "df = assembler.transform(df)"
      ],
      "metadata": {
        "id": "ZvfiTfWnuMSc"
      },
      "execution_count": null,
      "outputs": []
    },
    {
      "cell_type": "code",
      "source": [
        "from pyspark.ml.feature import StandardScaler"
      ],
      "metadata": {
        "id": "3CYce8uqncJU"
      },
      "execution_count": null,
      "outputs": []
    },
    {
      "cell_type": "code",
      "source": [
        "#standise features vector\n",
        "scaler = StandardScaler(inputCol=\"features\", outputCol=\"scared_features\", withStd=True, withMean=False)\n",
        "scaler_model = scaler.fit(df)\n",
        "df = scaler_model.transform(df)"
      ],
      "metadata": {
        "id": "Y0QEaGAJm-ZV"
      },
      "execution_count": null,
      "outputs": []
    },
    {
      "cell_type": "code",
      "source": [
        "train_data, test_data = df.randomSplit([0.8, 0.2], seed=42)"
      ],
      "metadata": {
        "id": "qDJm5QaguPLB"
      },
      "execution_count": null,
      "outputs": []
    },
    {
      "cell_type": "code",
      "source": [
        "from pyspark.ml.classification import RandomForestClassifier\n",
        "\n",
        "# initiate random forest classifier\n",
        "rf = RandomForestClassifier(featuresCol=\"features\", labelCol=\"nd_category\", predictionCol=\"prediction\")\n",
        "\n",
        "# fit train data\n",
        "rf_model = rf.fit(train_data)\n",
        "\n",
        "# model prediction\n",
        "predictions = rf_model.transform(test_data)"
      ],
      "metadata": {
        "id": "QJRgVBA3uSEs"
      },
      "execution_count": null,
      "outputs": []
    },
    {
      "cell_type": "code",
      "source": [
        "from pyspark.ml.evaluation import MulticlassClassificationEvaluator\n",
        "\n",
        "# accuracy\n",
        "evaluator_acc = MulticlassClassificationEvaluator(labelCol=\"nd_category\", predictionCol=\"prediction\", metricName=\"accuracy\")\n",
        "accuracy = evaluator_acc.evaluate(predictions)\n",
        "\n",
        "# F1 scor4e\n",
        "evaluator_f1 = MulticlassClassificationEvaluator(labelCol=\"nd_category\", predictionCol=\"prediction\", metricName=\"f1\")\n",
        "f1_score = evaluator_f1.evaluate(predictions)\n",
        "\n",
        "print(f\"Accuracy: {accuracy}\")\n",
        "print(f\"F1 Score: {f1_score}\")"
      ],
      "metadata": {
        "colab": {
          "base_uri": "https://localhost:8080/"
        },
        "id": "wlBG6cQRuqa-",
        "outputId": "d08101a6-9655-4c2e-be16-191c15a1a6e8"
      },
      "execution_count": null,
      "outputs": [
        {
          "output_type": "stream",
          "name": "stdout",
          "text": [
            "Accuracy: 0.9623819375730862\n",
            "F1 Score: 0.9614820823896185\n"
          ]
        }
      ]
    },
    {
      "cell_type": "code",
      "source": [
        "predictions.select(\"nd_category\", \"prediction\").show(10)"
      ],
      "metadata": {
        "colab": {
          "base_uri": "https://localhost:8080/"
        },
        "id": "AnAmPW2-uwHo",
        "outputId": "aa460e1b-cb20-4b81-d1fa-2321d7211d2a"
      },
      "execution_count": null,
      "outputs": [
        {
          "output_type": "stream",
          "name": "stdout",
          "text": [
            "+-----------+----------+\n",
            "|nd_category|prediction|\n",
            "+-----------+----------+\n",
            "|          1|       1.0|\n",
            "|          1|       1.0|\n",
            "|          1|       1.0|\n",
            "|          1|       1.0|\n",
            "|          1|       1.0|\n",
            "|          1|       1.0|\n",
            "|          2|       2.0|\n",
            "|          2|       2.0|\n",
            "|          1|       1.0|\n",
            "|          1|       1.0|\n",
            "+-----------+----------+\n",
            "only showing top 10 rows\n",
            "\n"
          ]
        }
      ]
    },
    {
      "cell_type": "markdown",
      "source": [
        "# **Two models comparision**"
      ],
      "metadata": {
        "id": "nNBARyyzCoSR"
      }
    },
    {
      "cell_type": "code",
      "source": [
        "from pyspark.ml.classification import DecisionTreeClassifier\n",
        "\n",
        "# initiate decision tree classifier\n",
        "dt = DecisionTreeClassifier(featuresCol=\"features\", labelCol=\"nd_category\", predictionCol=\"prediction\")\n",
        "\n",
        "# fit train data\n",
        "dt_model = dt.fit(train_data)\n",
        "\n",
        "# model prediction\n",
        "dt_predictions = dt_model.transform(test_data)"
      ],
      "metadata": {
        "id": "HrOiI6AmvG-U"
      },
      "execution_count": null,
      "outputs": []
    },
    {
      "cell_type": "code",
      "source": [
        "from pyspark.ml.classification import RandomForestClassifier\n",
        "\n",
        "# initiatte random forest classifier\n",
        "rf = RandomForestClassifier(featuresCol=\"features\", labelCol=\"nd_category\", predictionCol=\"prediction\", numTrees=100)\n",
        "\n",
        "# fit train data\n",
        "rf_model = rf.fit(train_data)\n",
        "\n",
        "# model prediction\n",
        "rf_predictions = rf_model.transform(test_data)"
      ],
      "metadata": {
        "id": "hAPzFvS2vOYm"
      },
      "execution_count": null,
      "outputs": []
    },
    {
      "cell_type": "code",
      "source": [
        "from pyspark.ml.evaluation import MulticlassClassificationEvaluator\n",
        "\n",
        "# initiate evaluator\n",
        "evaluator_acc = MulticlassClassificationEvaluator(labelCol=\"nd_category\", predictionCol=\"prediction\", metricName=\"accuracy\")\n",
        "evaluator_f1 = MulticlassClassificationEvaluator(labelCol=\"nd_category\", predictionCol=\"prediction\", metricName=\"f1\")\n",
        "\n",
        "# decision tree model evaluation\n",
        "dt_accuracy = evaluator_acc.evaluate(dt_predictions)\n",
        "dt_f1 = evaluator_f1.evaluate(dt_predictions)\n",
        "\n",
        "# random forest model evaluation\n",
        "rf_accuracy = evaluator_acc.evaluate(rf_predictions)\n",
        "rf_f1 = evaluator_f1.evaluate(rf_predictions)\n",
        "\n",
        "print(f\"Decision Tree - Accuracy: {dt_accuracy}, F1 Score: {dt_f1}\")\n",
        "print(f\"Random Forest - Accuracy: {rf_accuracy}, F1 Score: {rf_f1}\")"
      ],
      "metadata": {
        "colab": {
          "base_uri": "https://localhost:8080/"
        },
        "id": "EE76Cwdvvfz8",
        "outputId": "66efc038-f222-4b4d-844d-e8869c93347d"
      },
      "execution_count": null,
      "outputs": [
        {
          "output_type": "stream",
          "name": "stdout",
          "text": [
            "Decision Tree - Accuracy: 0.9576684357290636, F1 Score: 0.9573330575295619\n",
            "Random Forest - Accuracy: 0.9624179185031934, F1 Score: 0.9615152399349244\n"
          ]
        }
      ]
    },
    {
      "cell_type": "code",
      "source": [
        "import pandas as pd\n",
        "import seaborn as sns\n",
        "import matplotlib.pyplot as plt\n",
        "\n",
        "# obtain classification results\n",
        "confusion_matrix_dt = dt_predictions.groupBy(\"nd_category\", \"prediction\").count().toPandas()\n",
        "confusion_matrix_rf = rf_predictions.groupBy(\"nd_category\", \"prediction\").count().toPandas()\n",
        "\n",
        "# convert matrix to intergal\n",
        "matrix_dt = confusion_matrix_dt.pivot(index=\"nd_category\", columns=\"prediction\", values=\"count\").fillna(0).astype(int)\n",
        "\n",
        "# plot heatmap\n",
        "sns.heatmap(matrix_dt, annot=True, fmt=\"d\", cmap=\"Blues\")\n",
        "plt.title(\"Decision Tree Confusion Matrix\")\n",
        "plt.xlabel(\"Predicted Label\")\n",
        "plt.ylabel(\"True Label\")\n",
        "plt.show()\n",
        "\n",
        "# convert matrix to intergal\n",
        "matrix_rf = confusion_matrix_rf.pivot(index=\"nd_category\", columns=\"prediction\", values=\"count\").fillna(0).astype(int)\n",
        "\n",
        "# plot heatmap\n",
        "sns.heatmap(matrix_rf, annot=True, fmt=\"d\", cmap=\"Greens\")\n",
        "plt.title(\"Random Forest Confusion Matrix\")\n",
        "plt.xlabel(\"Predicted Label\")\n",
        "plt.ylabel(\"True Label\")\n",
        "plt.show()"
      ],
      "metadata": {
        "colab": {
          "base_uri": "https://localhost:8080/",
          "height": 927
        },
        "id": "fclrJmKuvlUR",
        "outputId": "9f001335-3445-4dc3-d4b3-8cc3a0f1d221"
      },
      "execution_count": null,
      "outputs": [
        {
          "output_type": "display_data",
          "data": {
            "text/plain": [
              "<Figure size 640x480 with 2 Axes>"
            ],
            "image/png": "[encoded data removed]"
          },
          "metadata": {}
        },
        {
          "output_type": "display_data",
          "data": {
            "text/plain": [
              "<Figure size 640x480 with 2 Axes>"
            ],
            "image/png": "[encoded data removed]"
          },
          "metadata": {}
        }
      ]
    },
    {
      "cell_type": "code",
      "source": [
        "# decision tree features importance\n",
        "dt_importances = dt_model.featureImportances\n",
        "print(f\"Decision Tree Feature Importances: {dt_importances}\")"
      ],
      "metadata": {
        "colab": {
          "base_uri": "https://localhost:8080/"
        },
        "id": "h4n4N7pgw4FW",
        "outputId": "0afe533b-29c5-44ac-8492-65cab887d281"
      },
      "execution_count": null,
      "outputs": [
        {
          "output_type": "stream",
          "name": "stdout",
          "text": [
            "Decision Tree Feature Importances: (3,[0,1,2],[0.9779244182921627,0.001689181807937225,0.02038639989990008])\n"
          ]
        }
      ]
    },
    {
      "cell_type": "code",
      "source": [
        "# random forest features importance\n",
        "rf_importances = rf_model.featureImportances\n",
        "print(f\"Random Forest Feature Importances: {rf_importances}\")"
      ],
      "metadata": {
        "colab": {
          "base_uri": "https://localhost:8080/"
        },
        "id": "FMhEKIeIw5hm",
        "outputId": "832b2e9c-619c-4590-def5-61c174b3c285"
      },
      "execution_count": null,
      "outputs": [
        {
          "output_type": "stream",
          "name": "stdout",
          "text": [
            "Random Forest Feature Importances: (3,[0,1,2],[0.9638955726605942,0.010115633518620354,0.025988793820785408])\n"
          ]
        }
      ]
    },
    {
      "cell_type": "code",
      "source": [
        "from pyspark.ml.classification import DecisionTreeClassifier\n",
        "\n",
        "# Initialize the Decision Tree Classifier\n",
        "dt = DecisionTreeClassifier(featuresCol=\"features\", labelCol=\"nd_category\", predictionCol=\"prediction\")"
      ],
      "metadata": {
        "id": "QlScRPao8hQM"
      },
      "execution_count": null,
      "outputs": []
    },
    {
      "cell_type": "code",
      "source": [
        "from pyspark.ml.tuning import ParamGridBuilder\n",
        "from pyspark.ml.classification import DecisionTreeClassifier\n",
        "\n",
        "# Initialize the Decision Tree Classifier\n",
        "dt = DecisionTreeClassifier(featuresCol=\"features\", labelCol=\"nd_category\", predictionCol=\"prediction\")\n",
        "\n",
        "# Define the hyperparameter grid\n",
        "paramGrid = ParamGridBuilder() \\\n",
        "    .addGrid(dt.maxDepth, [5, 10, 15]) \\\n",
        "    .addGrid(dt.maxBins, [16, 32, 64]) \\\n",
        "    .addGrid(dt.minInstancesPerNode, [1, 2, 5]) \\\n",
        "    .addGrid(dt.minInfoGain, [0.0, 0.01, 0.05]) \\\n",
        "    .build()"
      ],
      "metadata": {
        "id": "wP-XjUw19lr7"
      },
      "execution_count": null,
      "outputs": []
    },
    {
      "cell_type": "code",
      "source": [
        "from pyspark.ml.evaluation import MulticlassClassificationEvaluator\n",
        "\n",
        "# Initialize the evaluator\n",
        "evaluator = MulticlassClassificationEvaluator(\n",
        "    labelCol=\"nd_category\",\n",
        "    predictionCol=\"prediction\",\n",
        "    metricName=\"accuracy\"  # You can also use \"f1\"\n",
        ")"
      ],
      "metadata": {
        "id": "eqKzZid0-DYL"
      },
      "execution_count": null,
      "outputs": []
    },
    {
      "cell_type": "code",
      "source": [
        "from pyspark.ml.tuning import CrossValidator\n",
        "\n",
        "# Initialize CrossValidator\n",
        "cv = CrossValidator(\n",
        "    estimator=dt,\n",
        "    estimatorParamMaps=paramGrid,\n",
        "    evaluator=evaluator,\n",
        "    numFolds=5,\n",
        "    parallelism=4\n",
        ")"
      ],
      "metadata": {
        "id": "aACBCOZL-IgR"
      },
      "execution_count": null,
      "outputs": []
    },
    {
      "cell_type": "code",
      "source": [
        "# Train the model using cross-validation\n",
        "cvModel = cv.fit(train_data)\n",
        "\n",
        "# Get the best model from cross-validation\n",
        "bestModel = cvModel.bestModel"
      ],
      "metadata": {
        "id": "I-gJNzN0-LSZ"
      },
      "execution_count": null,
      "outputs": []
    },
    {
      "cell_type": "code",
      "source": [
        "# Make predictions on the test dataset\n",
        "best_predictions = bestModel.transform(test_data)\n",
        "\n",
        "# Evaluate the accuracy of the best model\n",
        "accuracy = evaluator.evaluate(best_predictions)\n",
        "print(f\"Best Model Accuracy: {accuracy}\")\n",
        "\n",
        "# Display the best hyperparameters\n",
        "print(f\"Best maxDepth: {bestModel.getMaxDepth()}\")\n",
        "print(f\"Best maxBins: {bestModel.getMaxBins()}\")\n",
        "print(f\"Best minInstancesPerNode: {bestModel.getMinInstancesPerNode()}\")\n",
        "print(f\"Best minInfoGain: {bestModel.getMinInfoGain()}\")"
      ],
      "metadata": {
        "colab": {
          "base_uri": "https://localhost:8080/"
        },
        "id": "LGbKAq9aBd9N",
        "outputId": "d7d3626f-a053-491d-c46e-164668edec51"
      },
      "execution_count": null,
      "outputs": [
        {
          "output_type": "stream",
          "name": "stdout",
          "text": [
            "Best Model Accuracy: 0.9668075919762525\n",
            "Best maxDepth: 15\n",
            "Best maxBins: 64\n",
            "Best minInstancesPerNode: 1\n",
            "Best minInfoGain: 0.0\n"
          ]
        }
      ]
    }
  ]
}